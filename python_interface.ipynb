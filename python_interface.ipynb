{
 "cells": [
  {
   "cell_type": "code",
   "execution_count": 1,
   "metadata": {},
   "outputs": [],
   "source": [
    "from abc import ABCMeta, abstractmethod\n",
    "#抽象クラス\n",
    "class AbstractHello(metaclass=ABCMeta):\n",
    "    @abstractmethod\n",
    "    def set_values(self):\n",
    "        pass\n",
    "    \n",
    "    @abstractmethod\n",
    "    def get_values(self):\n",
    "        pass"
   ]
  },
  {
   "cell_type": "code",
   "execution_count": 7,
   "metadata": {},
   "outputs": [
    {
     "name": "stdout",
     "output_type": "stream",
     "text": [
      "set word\n",
      "Hello, world! ver1\n",
      "Hello, world! ver2\n"
     ]
    }
   ],
   "source": [
    "class Hello1(AbstractHello):\n",
    "    \n",
    "    def __init__(self):\n",
    "        self.set_values()\n",
    "    \n",
    "    def set_values(self):\n",
    "        print(\"set word\")\n",
    "        self.word = 'Hello, world! ver1'\n",
    "        \n",
    "    def get_values(self):\n",
    "        return self.word\n",
    "\n",
    "class Hello2(AbstractHello):\n",
    "    def __init__(self):\n",
    "        self.word = 'Hello, world! ver2'\n",
    "    \n",
    "    def set_values(self):\n",
    "        print(\"no set\")\n",
    "    \n",
    "    def get_values(self):\n",
    "        return self.word\n",
    "\n",
    "helloe1 = Hello1()\n",
    "helloe2 = Hello2()\n",
    "\n",
    "\n",
    "print(helloe1.get_values())\n",
    "print(helloe2.get_values())"
   ]
  },
  {
   "cell_type": "code",
   "execution_count": null,
   "metadata": {},
   "outputs": [],
   "source": []
  }
 ],
 "metadata": {
  "kernelspec": {
   "display_name": "Python 3",
   "language": "python",
   "name": "python3"
  },
  "language_info": {
   "codemirror_mode": {
    "name": "ipython",
    "version": 3
   },
   "file_extension": ".py",
   "mimetype": "text/x-python",
   "name": "python",
   "nbconvert_exporter": "python",
   "pygments_lexer": "ipython3",
   "version": "3.7.2"
  }
 },
 "nbformat": 4,
 "nbformat_minor": 2
}
